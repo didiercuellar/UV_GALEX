{
 "cells": [
  {
   "cell_type": "code",
   "execution_count": 1,
   "metadata": {},
   "outputs": [],
   "source": [
    "import pandas as pd \n",
    "import numpy as np \n",
    "import scipy.stats as st \n",
    "from scipy.interpolate import interp1d\n",
    "from matplotlib import pyplot as plt \n",
    "import math\n",
    "import statistics as stats"
   ]
  },
  {
   "cell_type": "code",
   "execution_count": 2,
   "metadata": {},
   "outputs": [
    {
     "name": "stdout",
     "output_type": "stream",
     "text": [
      "             A         B             C             D\n",
      "0   106.092218  1.789340  2.660000e+45  2.350000e+44\n",
      "1   114.110142  1.738364  3.990000e+43  1.560000e+43\n",
      "2    67.115742  1.652795  3.690000e+44  1.900000e+44\n",
      "3    71.672233  1.583762  3.470000e+45  1.280000e+43\n",
      "4    90.909547  1.739032  5.480000e+43  4.060000e+43\n",
      "..         ...       ...           ...           ...\n",
      "66   52.631167  1.572969  1.180000e+45  5.450000e+43\n",
      "67  107.433101  1.874277  1.820000e+44  3.360000e+43\n",
      "68   44.077425  1.467471  5.560000e+44  5.120000e+43\n",
      "69   67.595756  1.500005  9.080000e+44  5.850000e+43\n",
      "70   87.227714  1.710899  5.440000e+44  1.100000e+44\n",
      "\n",
      "[71 rows x 4 columns]\n"
     ]
    }
   ],
   "source": [
    "data=pd.read_csv('logpost_U.csv',header=0,)\n",
    "data = data.dropna(how='any')#quita los valores nan del documento\n",
    "y=data.iloc[:,0]\n",
    "z=data.iloc[:,1]\n",
    "x=data.iloc[:,2]\n",
    "w=data.iloc[:,3]\n",
    "#print(stats.stdev(y)) # desviación estandar \n",
    "#print(stats.stdev(x)) # desviación estandar \n",
    "print(data)"
   ]
  },
  {
   "cell_type": "code",
   "execution_count": 3,
   "metadata": {},
   "outputs": [
    {
     "data": {
      "text/plain": [
       "<function matplotlib.pyplot.show(close=None, block=None)>"
      ]
     },
     "execution_count": 3,
     "metadata": {},
     "output_type": "execute_result"
    },
    {
     "data": {
      "image/png": "[encoded data removed]",
      "text/plain": [
       "<Figure size 432x288 with 1 Axes>"
      ]
     },
     "metadata": {
      "needs_background": "light"
     },
     "output_type": "display_data"
    }
   ],
   "source": [
    "yerror = z\n",
    "xerror = w\n",
    "plt.plot(x,y,'ro')\n",
    "plt.errorbar(x,y,yerr=yerror, fmt = ' ' , ecolor='black')\n",
    "plt.errorbar(x,y,xerr=xerror, fmt = ' ' , ecolor='blue')\n",
    "plt.ylabel('logpost_U')\n",
    "plt.xlabel('erg/seg')\n",
    "plt.title(\"Luminosidad_UV_GALEX_AB\")\n",
    "plt.xscale('log')\n",
    "#plt.ylim(50,60)\n",
    "plt.grid()\n",
    "plt.savefig(\"Luminosidad_UV_GALEX_logpost_U_error.pdf\")\n",
    "plt.show"
   ]
  },
  {
   "cell_type": "code",
   "execution_count": 4,
   "metadata": {},
   "outputs": [
    {
     "name": "stdout",
     "output_type": "stream",
     "text": [
      "             A         B             C             D\n",
      "0   130.202316  1.949627  2.660000e+45  2.350000e+44\n",
      "1   149.906770  2.918206  3.990000e+43  1.560000e+43\n",
      "2   105.104500  1.736560  3.690000e+44  1.900000e+44\n",
      "3    71.672233  1.583762  3.470000e+45  1.280000e+43\n",
      "4   125.089477  2.485903  5.480000e+43  4.060000e+43\n",
      "..         ...       ...           ...           ...\n",
      "75   79.302025  2.318572  3.380000e+44  3.120000e+43\n",
      "76  142.622398  2.060666  9.040000e+44  3.340000e+43\n",
      "77  125.122405  1.571475  1.320000e+43  5.220000e+43\n",
      "78  101.864754  1.809948  2.890000e+44  8.750000e+43\n",
      "79  125.646016  1.640120  6.620000e+44  2.140000e+44\n",
      "\n",
      "[80 rows x 4 columns]\n"
     ]
    }
   ],
   "source": [
    "data=pd.read_csv('logpost_G.csv',header=0,)\n",
    "data = data.dropna(how='any')#quita los valores nan del documento\n",
    "y=data.iloc[:,0]\n",
    "z=data.iloc[:,1]\n",
    "x=data.iloc[:,2]\n",
    "w=data.iloc[:,3]\n",
    "#print(stats.stdev(y)) # desviación estandar \n",
    "#print(stats.stdev(x)) # desviación estandar \n",
    "print(data)"
   ]
  },
  {
   "cell_type": "code",
   "execution_count": 5,
   "metadata": {},
   "outputs": [
    {
     "data": {
      "text/plain": [
       "<function matplotlib.pyplot.show(close=None, block=None)>"
      ]
     },
     "execution_count": 5,
     "metadata": {},
     "output_type": "execute_result"
    },
    {
     "data": {
      "image/png": "[encoded data removed]",
      "text/plain": [
       "<Figure size 432x288 with 1 Axes>"
      ]
     },
     "metadata": {
      "needs_background": "light"
     },
     "output_type": "display_data"
    }
   ],
   "source": [
    "yerror = z\n",
    "xerror = w\n",
    "plt.plot(x,y,'ro')\n",
    "plt.errorbar(x,y,yerr=yerror, fmt = ' ' , ecolor='black')\n",
    "plt.errorbar(x,y,xerr=xerror, fmt = ' ' , ecolor='blue')\n",
    "plt.ylabel('logpost_G')\n",
    "plt.xlabel('erg/seg')\n",
    "plt.title(\"Luminosidad_UV_GALEX_AB\")\n",
    "plt.xscale('log')\n",
    "#plt.ylim(50,60)\n",
    "plt.grid()\n",
    "plt.savefig(\"LUminosidad_UV_GALEX_logpost_G_error.pdf\")\n",
    "plt.show"
   ]
  },
  {
   "cell_type": "code",
   "execution_count": 6,
   "metadata": {},
   "outputs": [
    {
     "name": "stdout",
     "output_type": "stream",
     "text": [
      "             A         B             C             D\n",
      "0   154.399355  1.829780  2.660000e+45  2.350000e+44\n",
      "1   150.212161  2.298551  3.990000e+43  1.560000e+43\n",
      "2   109.168604  1.641570  3.690000e+44  1.900000e+44\n",
      "3   117.038446  1.661915  3.470000e+45  1.280000e+43\n",
      "4   131.885924  1.702738  5.480000e+43  4.060000e+43\n",
      "..         ...       ...           ...           ...\n",
      "79   71.170227  2.307091  6.620000e+44  2.140000e+44\n",
      "80  158.449949  1.782129  4.590000e+44  4.640000e+43\n",
      "81  137.917820  1.547206  2.730000e+44  3.280000e+43\n",
      "82  106.393878  2.398750  1.010000e+45  5.650000e+43\n",
      "83  119.673020  2.125404  2.200000e+45  8.130000e+43\n",
      "\n",
      "[84 rows x 4 columns]\n"
     ]
    }
   ],
   "source": [
    "data=pd.read_csv('logpost_R.csv',header=0,)\n",
    "data = data.dropna(how='any')#quita los valores nan del documento\n",
    "y=data.iloc[:,0]\n",
    "z=data.iloc[:,1]\n",
    "x=data.iloc[:,2]\n",
    "w=data.iloc[:,3]\n",
    "#print(stats.stdev(y)) # desviación estandar \n",
    "#print(stats.stdev(x)) # desviación estandar \n",
    "print(data)"
   ]
  },
  {
   "cell_type": "code",
   "execution_count": 1,
   "metadata": {},
   "outputs": [
    {
     "ename": "NameError",
     "evalue": "name 'z' is not defined",
     "output_type": "error",
     "traceback": [
      "\u001b[0;31m---------------------------------------------------------------------------\u001b[0m",
      "\u001b[0;31mNameError\u001b[0m                                 Traceback (most recent call last)",
      "\u001b[0;32m<ipython-input-1-f463f933aaca>\u001b[0m in \u001b[0;36m<module>\u001b[0;34m\u001b[0m\n\u001b[0;32m----> 1\u001b[0;31m \u001b[0myerror\u001b[0m \u001b[0;34m=\u001b[0m \u001b[0mz\u001b[0m\u001b[0;34m\u001b[0m\u001b[0;34m\u001b[0m\u001b[0m\n\u001b[0m\u001b[1;32m      2\u001b[0m \u001b[0mxerror\u001b[0m \u001b[0;34m=\u001b[0m \u001b[0mw\u001b[0m\u001b[0;34m\u001b[0m\u001b[0;34m\u001b[0m\u001b[0m\n\u001b[1;32m      3\u001b[0m \u001b[0mplt\u001b[0m\u001b[0;34m.\u001b[0m\u001b[0mplot\u001b[0m\u001b[0;34m(\u001b[0m\u001b[0mx\u001b[0m\u001b[0;34m,\u001b[0m\u001b[0my\u001b[0m\u001b[0;34m,\u001b[0m\u001b[0;34m'ro'\u001b[0m\u001b[0;34m)\u001b[0m\u001b[0;34m\u001b[0m\u001b[0;34m\u001b[0m\u001b[0m\n\u001b[1;32m      4\u001b[0m \u001b[0mplt\u001b[0m\u001b[0;34m.\u001b[0m\u001b[0merrorbar\u001b[0m\u001b[0;34m(\u001b[0m\u001b[0mx\u001b[0m\u001b[0;34m,\u001b[0m\u001b[0my\u001b[0m\u001b[0;34m,\u001b[0m\u001b[0myerr\u001b[0m\u001b[0;34m=\u001b[0m\u001b[0myerror\u001b[0m\u001b[0;34m,\u001b[0m \u001b[0mfmt\u001b[0m \u001b[0;34m=\u001b[0m \u001b[0;34m' '\u001b[0m \u001b[0;34m,\u001b[0m \u001b[0mecolor\u001b[0m\u001b[0;34m=\u001b[0m\u001b[0;34m'black'\u001b[0m\u001b[0;34m)\u001b[0m\u001b[0;34m\u001b[0m\u001b[0;34m\u001b[0m\u001b[0m\n\u001b[1;32m      5\u001b[0m \u001b[0mplt\u001b[0m\u001b[0;34m.\u001b[0m\u001b[0merrorbar\u001b[0m\u001b[0;34m(\u001b[0m\u001b[0mx\u001b[0m\u001b[0;34m,\u001b[0m\u001b[0my\u001b[0m\u001b[0;34m,\u001b[0m\u001b[0mxerr\u001b[0m\u001b[0;34m=\u001b[0m\u001b[0mxerror\u001b[0m\u001b[0;34m,\u001b[0m \u001b[0mfmt\u001b[0m \u001b[0;34m=\u001b[0m \u001b[0;34m' '\u001b[0m \u001b[0;34m,\u001b[0m \u001b[0mecolor\u001b[0m\u001b[0;34m=\u001b[0m\u001b[0;34m'blue'\u001b[0m\u001b[0;34m)\u001b[0m\u001b[0;34m\u001b[0m\u001b[0;34m\u001b[0m\u001b[0m\n",
      "\u001b[0;31mNameError\u001b[0m: name 'z' is not defined"
     ]
    }
   ],
   "source": [
    "yerror = z\n",
    "xerror = w\n",
    "plt.plot(x,y,'ro')\n",
    "plt.errorbar(x,y,yerr=yerror, fmt = ' ' , ecolor='black')\n",
    "plt.errorbar(x,y,xerr=xerror, fmt = ' ' , ecolor='blue')\n",
    "plt.ylabel('logpost_R')\n",
    "plt.xlabel('erg/seg')\n",
    "plt.title(\"Luminosidad_UV_GALEX_AB\")\n",
    "plt.xscale('log')\n",
    "plt.ylim(50,60)\n",
    "plt.grid()\n",
    "plt.savefig(\"Luminosidad_UV_GALEX_logpost_R_error.pdf\")\n",
    "plt.show"
   ]
  },
  {
   "cell_type": "code",
   "execution_count": 8,
   "metadata": {},
   "outputs": [
    {
     "name": "stdout",
     "output_type": "stream",
     "text": [
      "             A         B             C             D\n",
      "0   141.824069  3.040497  2.660000e+45  2.350000e+44\n",
      "1   151.780281  2.574591  3.990000e+43  1.560000e+43\n",
      "2    92.614660  1.641891  3.690000e+44  1.900000e+44\n",
      "3   110.824485  2.394953  3.470000e+45  1.280000e+43\n",
      "4   112.537535  2.833369  5.480000e+43  4.060000e+43\n",
      "..         ...       ...           ...           ...\n",
      "79   79.807502  2.168904  6.620000e+44  2.140000e+44\n",
      "80  144.270285  2.269053  4.590000e+44  4.640000e+43\n",
      "81  114.551377  2.619182  2.730000e+44  3.280000e+43\n",
      "82  109.263898  1.813485  1.010000e+45  5.650000e+43\n",
      "83  111.509776  2.350403  2.200000e+45  8.130000e+43\n",
      "\n",
      "[84 rows x 4 columns]\n"
     ]
    }
   ],
   "source": [
    "data=pd.read_csv('logpost_I.csv',header=0,)\n",
    "data = data.dropna(how='any')#quita los valores nan del documento\n",
    "y=data.iloc[:,0]\n",
    "z=data.iloc[:,1]\n",
    "x=data.iloc[:,2]\n",
    "w=data.iloc[:,3]\n",
    "#print(stats.stdev(y)) # desviación estandar \n",
    "#print(stats.stdev(x)) # desviación estandar \n",
    "print(data)"
   ]
  },
  {
   "cell_type": "code",
   "execution_count": 9,
   "metadata": {},
   "outputs": [
    {
     "data": {
      "text/plain": [
       "<function matplotlib.pyplot.show(close=None, block=None)>"
      ]
     },
     "execution_count": 9,
     "metadata": {},
     "output_type": "execute_result"
    },
    {
     "data": {
      "image/png": "[encoded data removed]",
      "text/plain": [
       "<Figure size 432x288 with 1 Axes>"
      ]
     },
     "metadata": {
      "needs_background": "light"
     },
     "output_type": "display_data"
    }
   ],
   "source": [
    "yerror = z\n",
    "xerror = w\n",
    "plt.plot(x,y,'ro')\n",
    "plt.errorbar(x,y,yerr=yerror, fmt = ' ' , ecolor='black')\n",
    "plt.errorbar(x,y,xerr=xerror, fmt = ' ' , ecolor='blue')\n",
    "plt.ylabel('logpost_I')\n",
    "plt.xlabel('erg/seg')\n",
    "plt.title(\"Luminosidad_UV_GALEX_AB\")\n",
    "plt.xscale('log')\n",
    "#plt.ylim(50,60)\n",
    "plt.grid()\n",
    "plt.savefig(\"Luminosidad_UV_GALEX_logpost_I_error.pdf\")\n",
    "plt.show"
   ]
  },
  {
   "cell_type": "code",
   "execution_count": 10,
   "metadata": {},
   "outputs": [
    {
     "name": "stdout",
     "output_type": "stream",
     "text": [
      "             A         B             C             D\n",
      "0   137.892281  1.687340  2.660000e+45  2.350000e+44\n",
      "1   113.125078  1.561252  3.990000e+43  1.560000e+43\n",
      "2    54.439427  1.585758  3.690000e+44  1.900000e+44\n",
      "3    65.567099  1.576602  3.470000e+45  1.280000e+43\n",
      "4   100.513633  1.802875  5.480000e+43  4.060000e+43\n",
      "..         ...       ...           ...           ...\n",
      "75   36.862623  1.729207  3.380000e+44  3.120000e+43\n",
      "76  120.631785  1.557431  9.040000e+44  3.340000e+43\n",
      "77  108.378965  1.522773  1.320000e+43  5.220000e+43\n",
      "78   57.735250  1.645357  2.890000e+44  8.750000e+43\n",
      "79   83.256750  1.383682  6.620000e+44  2.140000e+44\n",
      "\n",
      "[80 rows x 4 columns]\n"
     ]
    }
   ],
   "source": [
    "data=pd.read_csv('logpost_Z.csv',header=0,)\n",
    "data = data.dropna(how='any')#quita los valores nan del documento\n",
    "y=data.iloc[:,0]\n",
    "z=data.iloc[:,1]\n",
    "x=data.iloc[:,2]\n",
    "w=data.iloc[:,3]\n",
    "#print(stats.stdev(y)) # desviación estandar \n",
    "#print(stats.stdev(x)) # desviación estandar \n",
    "print(data)"
   ]
  },
  {
   "cell_type": "code",
   "execution_count": 11,
   "metadata": {},
   "outputs": [
    {
     "data": {
      "text/plain": [
       "<function matplotlib.pyplot.show(close=None, block=None)>"
      ]
     },
     "execution_count": 11,
     "metadata": {},
     "output_type": "execute_result"
    },
    {
     "data": {
      "image/png": "[encoded data removed]",
      "text/plain": [
       "<Figure size 432x288 with 1 Axes>"
      ]
     },
     "metadata": {
      "needs_background": "light"
     },
     "output_type": "display_data"
    }
   ],
   "source": [
    "yerror = z\n",
    "xerror = w\n",
    "plt.plot(x,y,'ro')\n",
    "plt.errorbar(x,y,yerr=yerror, fmt = ' ' , ecolor='black')\n",
    "plt.errorbar(x,y,xerr=xerror, fmt = ' ' , ecolor='blue')\n",
    "plt.ylabel('logpost_Z')\n",
    "plt.xlabel('erg/seg')\n",
    "plt.title(\"Luminosidad_UV_GALEX_AB\")\n",
    "plt.xscale('log')\n",
    "#plt.ylim(50,60)\n",
    "plt.grid()\n",
    "plt.savefig(\"Luminosidad_UV_GALEX_logpost_Z_error.pdf\")\n",
    "plt.show"
   ]
  },
  {
   "cell_type": "code",
   "execution_count": null,
   "metadata": {},
   "outputs": [],
   "source": []
  }
 ],
 "metadata": {
  "kernelspec": {
   "display_name": "Python 3",
   "language": "python",
   "name": "python3"
  },
  "language_info": {
   "codemirror_mode": {
    "name": "ipython",
    "version": 3
   },
   "file_extension": ".py",
   "mimetype": "text/x-python",
   "name": "python",
   "nbconvert_exporter": "python",
   "pygments_lexer": "ipython3",
   "version": "3.7.6"
  }
 },
 "nbformat": 4,
 "nbformat_minor": 4
}
