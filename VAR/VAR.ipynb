{
 "cells": [
  {
   "cell_type": "code",
   "execution_count": 1,
   "metadata": {},
   "outputs": [],
   "source": [
    "import pandas as pd \n",
    "import numpy as np \n",
    "import scipy.stats as st \n",
    "from scipy.interpolate import interp1d\n",
    "from matplotlib import pyplot as plt \n",
    "import math\n",
    "import statistics as stats"
   ]
  },
  {
   "cell_type": "code",
   "execution_count": 2,
   "metadata": {},
   "outputs": [
    {
     "name": "stdout",
     "output_type": "stream",
     "text": [
      "0.08726050495859436\n",
      "           A         B             C             D\n",
      "0   0.035911  0.045538  2.660000e+45  2.350000e+44\n",
      "1   0.048223  0.039569  3.990000e+43  1.560000e+43\n",
      "2   0.404977  0.606289  3.690000e+44  1.900000e+44\n",
      "3   0.025107  0.033440  3.470000e+45  1.280000e+43\n",
      "4   0.089001  0.134069  5.480000e+43  4.060000e+43\n",
      "..       ...       ...           ...           ...\n",
      "65  0.122797  0.167878  1.760000e+45  1.630000e+44\n",
      "66  0.028120  0.031794  1.180000e+45  5.450000e+43\n",
      "67  0.021182  0.034424  1.820000e+44  3.360000e+43\n",
      "68  0.042017  0.033025  5.560000e+44  5.120000e+43\n",
      "69  0.019305  0.023255  9.080000e+44  5.850000e+43\n",
      "\n",
      "[70 rows x 4 columns]\n"
     ]
    }
   ],
   "source": [
    "data=pd.read_csv('VAR_U.csv',header=0,)\n",
    "data = data.dropna(how='any')#quita los valores nan del documento\n",
    "y=data.iloc[:,0]\n",
    "z=data.iloc[:,1]\n",
    "x=data.iloc[:,2]\n",
    "w=data.iloc[:,3]\n",
    "\n",
    "\n",
    "print(stats.stdev(z)) # desviación estandar \n",
    "#print(stats.stdev(w)) # desviación estandar \n",
    "print(data)"
   ]
  },
  {
   "cell_type": "code",
   "execution_count": 3,
   "metadata": {},
   "outputs": [
    {
     "data": {
      "text/plain": [
       "<function matplotlib.pyplot.show(close=None, block=None)>"
      ]
     },
     "execution_count": 3,
     "metadata": {},
     "output_type": "execute_result"
    },
    {
     "data": {
      "image/png": "[encoded data removed]",
      "text/plain": [
       "<Figure size 432x288 with 1 Axes>"
      ]
     },
     "metadata": {
      "needs_background": "light"
     },
     "output_type": "display_data"
    }
   ],
   "source": [
    "yerror = z\n",
    "xerror = w\n",
    "plt.plot(x,y,'ro')\n",
    "plt.errorbar(x,y,yerr=yerror, fmt = ' ' , ecolor='black')\n",
    "plt.errorbar(x,y,xerr=xerror, fmt = ' ' , ecolor='blue')\n",
    "plt.ylabel('VAR_U')\n",
    "plt.xlabel('erg/seg')\n",
    "plt.title(\"Luminosidad_UV_GALEX_AB\")\n",
    "plt.xscale('log')\n",
    "#plt.ylim(50,60)\n",
    "#plt.xlim(10e44,11e45)\n",
    "plt.grid()\n",
    "plt.savefig(\"Luminosidad_UV_GALEX_VAR_U_error.pdf\")\n",
    "plt.show"
   ]
  },
  {
   "cell_type": "code",
   "execution_count": 4,
   "metadata": {},
   "outputs": [
    {
     "name": "stdout",
     "output_type": "stream",
     "text": [
      "0.04198773284897941\n",
      "           A         B             C             D\n",
      "0   0.013527  0.008661  2.660000e+45  2.350000e+44\n",
      "1   0.017699  0.009798  3.990000e+43  1.560000e+43\n",
      "2   0.243050  0.294363  3.690000e+44  1.900000e+44\n",
      "3   0.016140  0.023448  3.470000e+45  1.280000e+43\n",
      "4   0.027366  0.014149  5.480000e+43  4.060000e+43\n",
      "..       ...       ...           ...           ...\n",
      "76  0.106895  0.091779  9.040000e+44  3.340000e+43\n",
      "77  0.018196  0.016266  1.320000e+43  5.220000e+43\n",
      "78  0.031760  0.043204  2.890000e+44  8.750000e+43\n",
      "79  0.038302  0.025455  6.620000e+44  2.140000e+44\n",
      "80  0.008960  0.011796  4.590000e+44  4.640000e+43\n",
      "\n",
      "[81 rows x 4 columns]\n"
     ]
    }
   ],
   "source": [
    "data=pd.read_csv('VAR_G.csv',header=0,)\n",
    "data = data.dropna(how='any')#quita los valores nan del documento\n",
    "y=data.iloc[:,0]\n",
    "z=data.iloc[:,1]\n",
    "x=data.iloc[:,2]\n",
    "w=data.iloc[:,3]\n",
    "\n",
    "\n",
    "print(stats.stdev(z)) # desviación estandar \n",
    "#print(stats.stdev(w)) # desviación estandar \n",
    "print(data)"
   ]
  },
  {
   "cell_type": "code",
   "execution_count": 5,
   "metadata": {},
   "outputs": [
    {
     "data": {
      "text/plain": [
       "<function matplotlib.pyplot.show(close=None, block=None)>"
      ]
     },
     "execution_count": 5,
     "metadata": {},
     "output_type": "execute_result"
    },
    {
     "data": {
      "image/png": "[encoded data removed]",
      "text/plain": [
       "<Figure size 432x288 with 1 Axes>"
      ]
     },
     "metadata": {
      "needs_background": "light"
     },
     "output_type": "display_data"
    }
   ],
   "source": [
    "yerror = z\n",
    "xerror = w\n",
    "plt.plot(x,y,'ro')\n",
    "plt.errorbar(x,y,yerr=yerror, fmt = ' ' , ecolor='black')\n",
    "plt.errorbar(x,y,xerr=xerror, fmt = ' ' , ecolor='blue')\n",
    "plt.ylabel('VAR_G')\n",
    "plt.xlabel('erg/seg')\n",
    "plt.title(\"Luminosidad_UV_GALEX_AB\")\n",
    "plt.xscale('log')\n",
    "#plt.ylim(50,60)\n",
    "#plt.xlim(10e44,11e45)\n",
    "plt.grid()\n",
    "plt.savefig(\"Luminosidad_UV_GALEX_VAR_G_error.pdf\")\n",
    "plt.show"
   ]
  },
  {
   "cell_type": "code",
   "execution_count": 6,
   "metadata": {},
   "outputs": [
    {
     "name": "stdout",
     "output_type": "stream",
     "text": [
      "0.052991918502703864\n",
      "           A         B             C             D\n",
      "0   0.011296  0.011861  2.660000e+45  2.350000e+44\n",
      "1   0.022475  0.012813  3.990000e+43  1.560000e+43\n",
      "2   0.206401  0.269515  3.690000e+44  1.900000e+44\n",
      "3   0.013742  0.017776  3.470000e+45  1.280000e+43\n",
      "4   0.032052  0.041231  5.480000e+43  4.060000e+43\n",
      "..       ...       ...           ...           ...\n",
      "80  0.106862  0.096957  4.590000e+44  4.640000e+43\n",
      "81  0.017548  0.018414  2.730000e+44  3.280000e+43\n",
      "82  0.028546  0.034991  1.010000e+45  5.650000e+43\n",
      "83  0.045649  0.028855  2.200000e+45  8.130000e+43\n",
      "84  0.008369  0.007792  4.220000e+44  1.780000e+44\n",
      "\n",
      "[85 rows x 4 columns]\n"
     ]
    }
   ],
   "source": [
    "data=pd.read_csv('VAR_R.csv',header=0,)\n",
    "data = data.dropna(how='any')#quita los valores nan del documento\n",
    "y=data.iloc[:,0]\n",
    "z=data.iloc[:,1]\n",
    "x=data.iloc[:,2]\n",
    "w=data.iloc[:,3]\n",
    "\n",
    "\n",
    "print(stats.stdev(z)) # desviación estandar \n",
    "#print(stats.stdev(w)) # desviación estandar \n",
    "print(data)"
   ]
  },
  {
   "cell_type": "code",
   "execution_count": 7,
   "metadata": {},
   "outputs": [
    {
     "data": {
      "text/plain": [
       "<function matplotlib.pyplot.show(close=None, block=None)>"
      ]
     },
     "execution_count": 7,
     "metadata": {},
     "output_type": "execute_result"
    },
    {
     "data": {
      "image/png": "[encoded data removed]",
      "text/plain": [
       "<Figure size 432x288 with 1 Axes>"
      ]
     },
     "metadata": {
      "needs_background": "light"
     },
     "output_type": "display_data"
    }
   ],
   "source": [
    "yerror = z\n",
    "xerror = w\n",
    "plt.plot(x,y,'ro')\n",
    "plt.errorbar(x,y,yerr=yerror, fmt = ' ' , ecolor='black')\n",
    "plt.errorbar(x,y,xerr=xerror, fmt = ' ' , ecolor='blue')\n",
    "plt.ylabel('VAR_R')\n",
    "plt.xlabel('erg/seg')\n",
    "plt.title(\"Luminosidad_UV_GALEX_AB\")\n",
    "plt.xscale('log')\n",
    "#plt.ylim(50,60)\n",
    "#plt.xlim(10e44,11e45)\n",
    "plt.grid()\n",
    "plt.savefig(\"Luminosidad_UV_GALEX_VAR_R_error.pdf\")\n",
    "plt.show"
   ]
  },
  {
   "cell_type": "code",
   "execution_count": 8,
   "metadata": {},
   "outputs": [
    {
     "name": "stdout",
     "output_type": "stream",
     "text": [
      "0.04835188986156683\n",
      "           A         B             C             D\n",
      "0   0.006402  0.004100  2.660000e+45  2.350000e+44\n",
      "1   0.015817  0.009129  3.990000e+43  1.560000e+43\n",
      "2   0.221103  0.283365  3.690000e+44  1.900000e+44\n",
      "3   0.008726  0.008751  3.470000e+45  1.280000e+43\n",
      "4   0.012007  0.007486  5.480000e+43  4.060000e+43\n",
      "..       ...       ...           ...           ...\n",
      "79  0.071000  0.105262  6.620000e+44  2.140000e+44\n",
      "80  0.017609  0.021547  4.590000e+44  4.640000e+43\n",
      "81  0.015826  0.008261  2.730000e+44  3.280000e+43\n",
      "82  0.030691  0.018299  1.010000e+45  5.650000e+43\n",
      "83  0.005740  0.004063  2.200000e+45  8.130000e+43\n",
      "\n",
      "[84 rows x 4 columns]\n"
     ]
    }
   ],
   "source": [
    "data=pd.read_csv('VAR_I.csv',header=0,)\n",
    "data = data.dropna(how='any')#quita los valores nan del documento\n",
    "y=data.iloc[:,0]\n",
    "z=data.iloc[:,1]\n",
    "x=data.iloc[:,2]\n",
    "w=data.iloc[:,3]\n",
    "\n",
    "\n",
    "print(stats.stdev(z)) # desviación estandar \n",
    "#print(stats.stdev(w)) # desviación estandar \n",
    "print(data)"
   ]
  },
  {
   "cell_type": "code",
   "execution_count": 9,
   "metadata": {},
   "outputs": [
    {
     "data": {
      "text/plain": [
       "<function matplotlib.pyplot.show(close=None, block=None)>"
      ]
     },
     "execution_count": 9,
     "metadata": {},
     "output_type": "execute_result"
    },
    {
     "data": {
      "image/png": "[encoded data removed]",
      "text/plain": [
       "<Figure size 432x288 with 1 Axes>"
      ]
     },
     "metadata": {
      "needs_background": "light"
     },
     "output_type": "display_data"
    }
   ],
   "source": [
    "yerror = z\n",
    "xerror = w\n",
    "plt.plot(x,y,'ro')\n",
    "plt.errorbar(x,y,yerr=yerror, fmt = ' ' , ecolor='black')\n",
    "plt.errorbar(x,y,xerr=xerror, fmt = ' ' , ecolor='blue')\n",
    "plt.ylabel('VAR_I')\n",
    "plt.xlabel('erg/seg')\n",
    "plt.title(\"Luminosidad_UV_GALEX_AB\")\n",
    "plt.xscale('log')\n",
    "#plt.ylim(50,60)\n",
    "#plt.xlim(10e44,11e45)\n",
    "plt.grid()\n",
    "plt.savefig(\"Luminosidad_UV_GALEX_VAR_I_error.pdf\")\n",
    "plt.show"
   ]
  },
  {
   "cell_type": "code",
   "execution_count": 10,
   "metadata": {},
   "outputs": [
    {
     "name": "stdout",
     "output_type": "stream",
     "text": [
      "0.03403222144372435\n",
      "           A         B             C             D\n",
      "0   0.002346  0.003401  2.660000e+45  2.350000e+44\n",
      "1   0.020644  0.034743  3.990000e+43  1.560000e+43\n",
      "2   0.141805  0.206988  3.690000e+44  1.900000e+44\n",
      "3   0.004277  0.006090  3.470000e+45  1.280000e+43\n",
      "4   0.005045  0.005110  5.480000e+43  4.060000e+43\n",
      "..       ...       ...           ...           ...\n",
      "76  0.092146  0.118662  9.040000e+44  3.340000e+43\n",
      "77  0.019275  0.020649  1.320000e+43  5.220000e+43\n",
      "78  0.025293  0.029845  2.890000e+44  8.750000e+43\n",
      "79  0.024045  0.024407  6.620000e+44  2.140000e+44\n",
      "80  0.000976  0.003682  4.590000e+44  4.640000e+43\n",
      "\n",
      "[81 rows x 4 columns]\n"
     ]
    }
   ],
   "source": [
    "data=pd.read_csv('VAR_Z.csv',header=0,)\n",
    "data = data.dropna(how='any')#quita los valores nan del documento\n",
    "y=data.iloc[:,0]\n",
    "z=data.iloc[:,1]\n",
    "x=data.iloc[:,2]\n",
    "w=data.iloc[:,3]\n",
    "\n",
    "\n",
    "print(stats.stdev(z)) # desviación estandar \n",
    "#print(stats.stdev(w)) # desviación estandar \n",
    "print(data)"
   ]
  },
  {
   "cell_type": "code",
   "execution_count": 11,
   "metadata": {},
   "outputs": [
    {
     "data": {
      "text/plain": [
       "<function matplotlib.pyplot.show(close=None, block=None)>"
      ]
     },
     "execution_count": 11,
     "metadata": {},
     "output_type": "execute_result"
    },
    {
     "data": {
      "image/png": "[encoded data removed]",
      "text/plain": [
       "<Figure size 432x288 with 1 Axes>"
      ]
     },
     "metadata": {
      "needs_background": "light"
     },
     "output_type": "display_data"
    }
   ],
   "source": [
    "yerror = z\n",
    "xerror = w\n",
    "plt.plot(x,y,'ro')\n",
    "plt.errorbar(x,y,yerr=yerror, fmt = ' ' , ecolor='black')\n",
    "plt.errorbar(x,y,xerr=xerror, fmt = ' ' , ecolor='blue')\n",
    "plt.ylabel('VAR_Z')\n",
    "plt.xlabel('erg/seg')\n",
    "plt.title(\"Luminosidad_UV_GALEX_AB\")\n",
    "plt.xscale('log')\n",
    "#plt.ylim(50,60)\n",
    "#plt.xlim(10e44,11e45)\n",
    "plt.grid()\n",
    "plt.savefig(\"Luminosidad_UV_GALEX_VAR_Z_error.pdf\")\n",
    "plt.show"
   ]
  },
  {
   "cell_type": "code",
   "execution_count": null,
   "metadata": {},
   "outputs": [],
   "source": []
  }
 ],
 "metadata": {
  "kernelspec": {
   "display_name": "Python 3",
   "language": "python",
   "name": "python3"
  },
  "language_info": {
   "codemirror_mode": {
    "name": "ipython",
    "version": 3
   },
   "file_extension": ".py",
   "mimetype": "text/x-python",
   "name": "python",
   "nbconvert_exporter": "python",
   "pygments_lexer": "ipython3",
   "version": "3.7.6"
  }
 },
 "nbformat": 4,
 "nbformat_minor": 4
}
